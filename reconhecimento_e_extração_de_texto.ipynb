{
 "metadata": {
  "language_info": {
   "codemirror_mode": {
    "name": "ipython",
    "version": 3
   },
   "file_extension": ".py",
   "mimetype": "text/x-python",
   "name": "python",
   "nbconvert_exporter": "python",
   "pygments_lexer": "ipython3",
   "version": "3.8.3-final"
  },
  "orig_nbformat": 2,
  "kernelspec": {
   "name": "python_defaultSpec_1601644231159",
   "display_name": "Python 3.8.3 64-bit",
   "metadata": {
    "interpreter": {
     "hash": "2db524e06e9f5f4ffedc911c917cb75e12dbc923643829bf417064a77eb14d37"
    }
   }
  }
 },
 "nbformat": 4,
 "nbformat_minor": 2,
 "cells": [
  {
   "cell_type": "code",
   "execution_count": 20,
   "metadata": {},
   "outputs": [],
   "source": [
    "import cv2 as cv\n",
    "import pytesseract"
   ]
  },
  {
   "cell_type": "code",
   "execution_count": 36,
   "metadata": {
    "tags": []
   },
   "outputs": [],
   "source": [
    "def text_extract(fil):\n",
    "    pytesseract.pytesseract.tesseract_cmd = 'C:/Users/dh_vi/AppData/Local/Tesseract-OCR/tesseract.exe'\n",
    "\n",
    "    img = cv.imread(fil)\n",
    "\n",
    "    gray = cv.cvtColor(img, cv.COLOR_RGB2GRAY)\n",
    "\n",
    "    ret, thresh1 = cv.threshold(gray, 0, 255, cv.THRESH_OTSU | cv.THRESH_BINARY_INV)\n",
    "\n",
    "    rect_kernel = cv.getStructuringElement(cv.MORPH_RECT,(18,18))\n",
    "\n",
    "    dilatation = cv.dilate(thresh1, rect_kernel, iterations=1)\n",
    "\n",
    "    contours, hierarchy = cv.findContours(dilatation, cv.RETR_EXTERNAL, cv.CHAIN_APPROX_NONE)\n",
    "\n",
    "    im2 = img.copy()\n",
    "\n",
    "    file = open(\"inventario.txt\", \"w+\")\n",
    "    file.write(\"\")\n",
    "    file.close()\n",
    "\n",
    "    for cnt in contours:\n",
    "        x, y, w, h = cv.boundingRect(cnt)\n",
    "\n",
    "        rect = cv.rectangle(im2, (x,y), (x + w, y + h), (0, 255, 0), 2)\n",
    "\n",
    "        cropped = im2[y:y + h, x:x + w]\n",
    "\n",
    "        file = open(\"inventario.txt\", \"a\")\n",
    "\n",
    "        text = pytesseract.image_to_string(cropped, lang='por')\n",
    "\n",
    "        file.write(text)\n",
    "        file.write(\"\\n\")\n",
    "\n",
    "        file.close()"
   ]
  },
  {
   "cell_type": "code",
   "execution_count": 38,
   "metadata": {
    "tags": []
   },
   "outputs": [
    {
     "output_type": "stream",
     "name": "stdout",
     "text": " \n\n \n\n \n\n \n\n \n\f\n\f\n \n\n \n\nuuuuuu\n\n \n\n \n\f\nPrecisa de Orientação\nídica?\n\n \n\f\n \n\n \n\nAlém\n\n \n\n \n\f\n \n\n \n\no\njar t\n\n \n\n \n\f\n \n\n \n\ninexistência de movimentação.\n\n \n\n \n\f\n \n\n \n\nencerramento da conta por\n\n \n\n \n\f\n \n\n \n\ncliente e providenciar o\n\n \n\n \n\f\n \n\n \n\nobrigatoriamente, notificar o\n\n \n\n \n\f\n \n\n \n\nfinanceira deverá,\n\n \n\n \n\f\n \n\n \n\nconta corrente, a instituição\n\n \n\n \n\f\n \n\n \n\nprazo sem movimentação da\n\n \n\n \n\f\n \n\n \n\n(seis) meses. Se decorrido este\n\n \n\n \n\f\n \n\n \n\nnão movimentada por mais de 06\n\n \n\n \n\f\n \n\n \n\ncomo conta corrente inativa a\n\n \n\n \n\f\n \n\n \n\n2.025 do Banco Central considera\n\n \n\n \n\f\n \n\n \n\né bom saber que a Resolução nº\n\n \n\n \n\f\n \n\n \n\nEntretanto, caso não seja possível,\n\n \n\n \n\f\n\f\n\f\n\f\n\f\n\f\n\f\n \n\n \n\nSituações em que...\nom-br.cdn.ampproject.org\n\n \n\n \n\f\n\f\n \n\n \n\n \n\n \n\n \n\n \n\n.) 93% É 06:52\n\n \n\n \n\n \n\f\n\n"
    }
   ],
   "source": [
    "text_extract(\"D:/freelance/Apps/pyton_learn/teste2.png\")\n",
    "fils = open(\"inventario.txt\", \"r\")\n",
    "print(fils.read())"
   ]
  },
  {
   "cell_type": "code",
   "execution_count": null,
   "metadata": {},
   "outputs": [],
   "source": []
  }
 ]
}